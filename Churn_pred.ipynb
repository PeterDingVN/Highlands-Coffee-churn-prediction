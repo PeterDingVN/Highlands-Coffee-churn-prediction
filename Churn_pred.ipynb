{
  "nbformat": 4,
  "nbformat_minor": 0,
  "metadata": {
    "colab": {
      "provenance": [],
      "collapsed_sections": [
        "AryLKaVp-1Ua",
        "io7N0Dw5MLqf",
        "4pqAfKGb-263",
        "NL9bmiIkGMtZ",
        "JZezQLjEBG55"
      ],
      "toc_visible": true
    },
    "kernelspec": {
      "name": "python3",
      "display_name": "Python 3"
    },
    "language_info": {
      "name": "python"
    }
  },
  "cells": [
    {
      "cell_type": "markdown",
      "source": [
        "#Data prep"
      ],
      "metadata": {
        "id": "AryLKaVp-1Ua"
      }
    },
    {
      "cell_type": "markdown",
      "source": [
        "Data prep includes:\n",
        "- divide main data into train and test"
      ],
      "metadata": {
        "id": "K1bfr5L5ByRl"
      }
    },
    {
      "cell_type": "code",
      "source": [
        "import pandas as pd\n",
        "\n",
        "# The master data is the result from clustering part\n",
        "# Check out KMeans_customer_segment (1).ipynb for code\n",
        "# and README_Clustering_segmentation.md for detailed description\n",
        "\n",
        "df_churn = pd.read_csv(r'/content/churn_data_final.csv')\n",
        "df_churn.head(2)\n",
        "\n",
        "# Clean the data\n",
        "df_churn.drop(columns = ['P1M', 'P3M'], inplace = True)\n",
        "df_churn.drop_duplicates(inplace = True)"
      ],
      "metadata": {
        "id": "bMmBrzU4WJAm"
      },
      "execution_count": 129,
      "outputs": []
    },
    {
      "cell_type": "code",
      "source": [
        "# Divide data into main and test set\n",
        "# Create a test set by taking out 10% of current data\n",
        "hold_out_id = df_churn.sample(frac=0.1, random_state=40).index\n",
        "\n",
        "# Two sets created\n",
        "df_teaching = df_churn.loc[~df_churn.index.isin(hold_out_id)]\n",
        "df_testing = df_churn.loc[df_churn.index.isin(hold_out_id)]"
      ],
      "metadata": {
        "id": "_MsMlITZA5CG"
      },
      "execution_count": 130,
      "outputs": []
    },
    {
      "cell_type": "markdown",
      "source": [
        "# Churn prediction"
      ],
      "metadata": {
        "id": "oLkjw6YO0mxK"
      }
    },
    {
      "cell_type": "markdown",
      "source": [
        "## Train test split\n",
        "- To prevent data leakage, I'll seperate df_teaching from testing\n",
        "- Also, I'll split the df_teeaching beforehand so that data might not leak to validation set\n",
        "- I use OneHotEncoder after that to:\n",
        "  + Not allow data leaking to df_testing\n",
        "  + OneHotEncoding coudl adapt better than get_dummies in case of strange value\n",
        "  + For example: if train set has companion_friend, and companion_colleague but test set only has companion_other, OneHotEncoder still works but get_dummies not"
      ],
      "metadata": {
        "id": "io7N0Dw5MLqf"
      }
    },
    {
      "cell_type": "code",
      "source": [
        "import pandas as pd\n",
        "import numpy as np\n",
        "from sklearn.model_selection import train_test_split\n",
        "from sklearn.preprocessing import OneHotEncoder, StandardScaler\n",
        "\n",
        "# Data set up\n",
        "# df_teaching\n",
        "X_train, X_val, y_train, y_val = train_test_split(\n",
        "    df_teaching.drop(columns=\"churn\"),\n",
        "    df_teaching[['ID', \"churn\"]],\n",
        "    test_size=0.2,\n",
        "    random_state=42\n",
        ")\n",
        "# df_testing\n",
        "X_test = df_testing.drop(columns='churn')\n",
        "y_test = df_testing[['ID', 'churn']]\n",
        "\n",
        "# Encoding using OneHotEncoder\n",
        "# Cols\n",
        "categorical_cols = ['Occupation#group', 'Comprehension', 'Companion#group', 'NeedstateGroup', 'segment']\n",
        "numerical_cols = ['Age', 'MPI_Mean_Use', 'Fre#visit', 'Spending', 'PPA', 'NPS#P3M']\n",
        "\n",
        "# Encoder set up\n",
        "# handle_unknown='ignore' will prevent errors if a category appears in val/test but not in train\n",
        "# Use only 1 encoder to prevent leakage\n",
        "encoder = OneHotEncoder(handle_unknown='ignore', sparse_output=False)\n",
        "\n",
        "# Fit the encoder on the training data's categorical columns\n",
        "encoder.fit(X_train[categorical_cols])\n",
        "encoded_cols = encoder.get_feature_names_out(categorical_cols)\n",
        "\n",
        "# Transform the categorical columns for all three datasets\n",
        "X_train_encoded = pd.DataFrame(encoder.transform(X_train[categorical_cols]), columns=encoded_cols, index=X_train.index)\n",
        "X_val_encoded = pd.DataFrame(encoder.transform(X_val[categorical_cols]), columns=encoded_cols, index=X_val.index)\n",
        "X_test_encoded = pd.DataFrame(encoder.transform(X_test[categorical_cols]), columns=encoded_cols, index=X_test.index)\n",
        "\n",
        "\n",
        "\n",
        "# Recombine Encoded and Numerical Columns\n",
        "X_train_full = pd.concat([X_train_encoded, X_train[numerical_cols + ['ID']]], axis=1)\n",
        "X_val_full = pd.concat([X_val_encoded, X_val[numerical_cols + ['ID']]], axis=1)\n",
        "X_test_full = pd.concat([X_test_encoded, X_test[numerical_cols + ['ID']]], axis=1)\n",
        "\n",
        "\n",
        "# Group by ID\n",
        "# X vars\n",
        "X_train_grouped = X_train_full.groupby('ID').max().reset_index()\n",
        "X_val_grouped = X_val_full.groupby('ID').max().reset_index()\n",
        "X_test_grouped = X_test_full.groupby('ID').max().reset_index()\n",
        "\n",
        "# Y vars\n",
        "y_train_grouped = y_train[y_train['ID'].isin(X_train_grouped['ID'])].groupby('ID').max().reset_index()\n",
        "y_val_grouped = y_val[y_val['ID'].isin(X_val_grouped['ID'])].groupby('ID').max().reset_index()\n",
        "y_test_grouped = y_test[y_test['ID'].isin(X_test_grouped['ID'])].groupby('ID').max().reset_index()\n",
        "\n",
        "\n",
        "# Drop Redundant ID Column\n",
        "# The ID is no longer needed as a feature for the model\n",
        "X_train_final = X_train_grouped.drop(columns='ID')\n",
        "X_val_final = X_val_grouped.drop(columns='ID')\n",
        "X_test_final = X_test_grouped.drop(columns='ID')\n",
        "\n",
        "y_train = y_train_grouped.drop(columns='ID')\n",
        "y_val = y_val_grouped.drop(columns='ID')\n",
        "y_test = y_test_grouped.drop(columns='ID')\n",
        "\n",
        "\n",
        "# Standardize vars\n",
        "scaler = StandardScaler()\n",
        "\n",
        "X_train_scaled = pd.DataFrame(\n",
        "    scaler.fit_transform(X_train_final),\n",
        "    columns=X_train_final.columns\n",
        ")\n",
        "\n",
        "X_val_scaled = pd.DataFrame(\n",
        "    scaler.transform(X_val_final),\n",
        "    columns=X_val_final.columns\n",
        ")\n",
        "\n",
        "# Use the same scaler for testing data\n",
        "X_test_scaled = pd.DataFrame(\n",
        "    scaler.transform(X_test_final),\n",
        "    columns=X_test_final.columns\n",
        ")\n"
      ],
      "metadata": {
        "id": "Uy8Rgzsy23Nd"
      },
      "execution_count": 131,
      "outputs": []
    },
    {
      "cell_type": "markdown",
      "source": [
        "## Cross validation for algorithm choosing"
      ],
      "metadata": {
        "id": "4pqAfKGb-263"
      }
    },
    {
      "cell_type": "markdown",
      "source": [
        "Since I just want to evaluate the algorithm, I used the teaching set and use get_dummies only for ease of use"
      ],
      "metadata": {
        "id": "vZS6t4-q5Jqw"
      }
    },
    {
      "cell_type": "code",
      "source": [
        "import pandas as pd\n",
        "import numpy as np\n",
        "import statistics as stat\n",
        "from sklearn.preprocessing import StandardScaler\n",
        "from sklearn.model_selection import StratifiedKFold, cross_val_score\n",
        "from sklearn.pipeline import Pipeline\n",
        "\n",
        "# Classifiers\n",
        "from sklearn.linear_model import LogisticRegression\n",
        "from sklearn.tree import DecisionTreeClassifier\n",
        "from sklearn.ensemble import (\n",
        "    RandomForestClassifier, GradientBoostingClassifier,\n",
        "    AdaBoostClassifier, BaggingClassifier\n",
        ")\n",
        "from sklearn.svm import SVC\n",
        "from sklearn.naive_bayes import GaussianNB\n",
        "from sklearn.neighbors import KNeighborsClassifier\n",
        "from sklearn.discriminant_analysis import (\n",
        "    LinearDiscriminantAnalysis, QuadraticDiscriminantAnalysis\n",
        ")\n",
        "\n",
        "# Data setup\n",
        "df_encoded = df_teaching.copy()\n",
        "\n",
        "# Cols\n",
        "id_col = 'ID'\n",
        "target_col = 'churn'\n",
        "numeric_cols = ['Age', 'MPI_Mean_Use', 'Fre#visit', 'Spending', 'PPA', 'NPS#P3M']\n",
        "cat_cols = [\n",
        "    'Occupation#group', 'Comprehension', 'Companion#group',\n",
        "    'NeedstateGroup', 'segment'\n",
        "]\n",
        "\n",
        "# One-hot encoding.\n",
        "df_encoded = pd.get_dummies(df_teaching, columns=cat_cols)\n",
        "\n",
        "# Create a dictionary of aggregation rules for the groupby operation\n",
        "agg_rules = {col: 'mean' for col in numeric_cols}\n",
        "dummy_cols = [col for col in df_encoded.columns if col not in [id_col, target_col] + numeric_cols]\n",
        "agg_rules.update({col: 'max' for col in dummy_cols})\n",
        "agg_rules[target_col] = 'first'\n",
        "\n",
        "# Group by ID and apply the aggregation rules in one step\n",
        "df_agg = df_encoded.groupby(id_col).agg(agg_rules).reset_index()\n",
        "\n",
        "\n",
        "# The `churn` column is the target (y)\n",
        "y_final = df_agg[target_col]\n",
        "# The rest of the columns, except for the ID, are features (X)\n",
        "X_final = df_agg.drop(columns=[id_col, target_col])\n",
        "\n",
        "\n",
        "\n",
        "# Tested algorithms\n",
        "classifiers = {\n",
        "    \"Logistic Regression\": LogisticRegression(),\n",
        "    \"Decision Tree\": DecisionTreeClassifier(),\n",
        "    \"Random Forest\": RandomForestClassifier(),\n",
        "    \"Gradient Boosting\": GradientBoostingClassifier(),\n",
        "    \"AdaBoost\": AdaBoostClassifier(),\n",
        "    \"Bagging\": BaggingClassifier(),\n",
        "    \"SVM\": SVC(),\n",
        "    \"Naive Bayes\": GaussianNB(),\n",
        "    \"KNN\": KNeighborsClassifier(),\n",
        "    \"LDA\": LinearDiscriminantAnalysis(),\n",
        "    \"QDA\": QuadraticDiscriminantAnalysis(reg_param=0.1)\n",
        "\n",
        "}\n",
        "\n",
        "# Evaluate Each Classifier\n",
        "cv = StratifiedKFold(n_splits=5, shuffle=True, random_state=42)\n",
        "results = {}\n",
        "\n",
        "for name, model in classifiers.items():\n",
        "    # Create a pipeline that first scales the data, then fits the classifier\n",
        "    pipe = Pipeline([\n",
        "        ('scaler', StandardScaler()),\n",
        "        ('clf', model)\n",
        "    ])\n",
        "\n",
        "    # Perform cross-validation and store the list of scores\n",
        "    try:\n",
        "        cv_results = cross_val_score(pipe, X_final, y_final, cv=cv, scoring='accuracy')\n",
        "        roc_auc = cross_val_score(pipe, X_final, y_final, cv=cv, scoring='roc_auc')\n",
        "        preci = cross_val_score(pipe, X_final, y_final, cv=cv, scoring='precision')\n",
        "        recall = cross_val_score(pipe, X_final, y_final, cv=cv, scoring='recall')\n",
        "\n",
        "        results[name] = {'Accuracy': stat.mean(cv_results),\n",
        "                         'ROC_AUC': stat.mean(roc_auc),\n",
        "                         'Precision': stat.mean(preci),\n",
        "                         'Recall': stat.mean(recall)}\n",
        "\n",
        "    except Exception as e:\n",
        "        print(f\"Could not evaluate {name}. Error: {e}\")\n",
        "        break\n",
        "\n",
        "\n",
        "# Results\n",
        "df_results = pd.DataFrame.from_dict(results, orient='index')\n",
        "\n",
        "df_results = df_results.round(4)\n",
        "\n",
        "df_results.sort_values(by='Accuracy', ascending = False)"
      ],
      "metadata": {
        "colab": {
          "base_uri": "https://localhost:8080/",
          "height": 394
        },
        "id": "K05mf9HATEP2",
        "outputId": "e7504ebc-b8bf-4846-a0b3-3e872233ea6a"
      },
      "execution_count": 142,
      "outputs": [
        {
          "output_type": "execute_result",
          "data": {
            "text/plain": [
              "                     Accuracy  ROC_AUC  Precision  Recall\n",
              "Gradient Boosting      0.8690   0.9112     0.7829  0.6250\n",
              "Random Forest          0.8656   0.9031     0.7840  0.5998\n",
              "Bagging                0.8570   0.8716     0.7639  0.6214\n",
              "AdaBoost               0.8356   0.8862     0.7319  0.4951\n",
              "Logistic Regression    0.8279   0.8627     0.6963  0.4928\n",
              "SVM                    0.8216   0.8540     0.7507  0.3750\n",
              "Decision Tree          0.8067   0.7428     0.5887  0.6190\n",
              "LDA                    0.8041   0.8208     0.7250  0.2884\n",
              "KNN                    0.7638   0.7283     0.5121  0.3125\n",
              "QDA                    0.5742   0.8036     0.3488  0.9026\n",
              "Naive Bayes            0.4458   0.7915     0.2933  0.9435"
            ],
            "text/html": [
              "\n",
              "  <div id=\"df-8f0d56c3-8ca8-4f4b-8028-6c48fa9e194c\" class=\"colab-df-container\">\n",
              "    <div>\n",
              "<style scoped>\n",
              "    .dataframe tbody tr th:only-of-type {\n",
              "        vertical-align: middle;\n",
              "    }\n",
              "\n",
              "    .dataframe tbody tr th {\n",
              "        vertical-align: top;\n",
              "    }\n",
              "\n",
              "    .dataframe thead th {\n",
              "        text-align: right;\n",
              "    }\n",
              "</style>\n",
              "<table border=\"1\" class=\"dataframe\">\n",
              "  <thead>\n",
              "    <tr style=\"text-align: right;\">\n",
              "      <th></th>\n",
              "      <th>Accuracy</th>\n",
              "      <th>ROC_AUC</th>\n",
              "      <th>Precision</th>\n",
              "      <th>Recall</th>\n",
              "    </tr>\n",
              "  </thead>\n",
              "  <tbody>\n",
              "    <tr>\n",
              "      <th>Gradient Boosting</th>\n",
              "      <td>0.8690</td>\n",
              "      <td>0.9112</td>\n",
              "      <td>0.7829</td>\n",
              "      <td>0.6250</td>\n",
              "    </tr>\n",
              "    <tr>\n",
              "      <th>Random Forest</th>\n",
              "      <td>0.8656</td>\n",
              "      <td>0.9031</td>\n",
              "      <td>0.7840</td>\n",
              "      <td>0.5998</td>\n",
              "    </tr>\n",
              "    <tr>\n",
              "      <th>Bagging</th>\n",
              "      <td>0.8570</td>\n",
              "      <td>0.8716</td>\n",
              "      <td>0.7639</td>\n",
              "      <td>0.6214</td>\n",
              "    </tr>\n",
              "    <tr>\n",
              "      <th>AdaBoost</th>\n",
              "      <td>0.8356</td>\n",
              "      <td>0.8862</td>\n",
              "      <td>0.7319</td>\n",
              "      <td>0.4951</td>\n",
              "    </tr>\n",
              "    <tr>\n",
              "      <th>Logistic Regression</th>\n",
              "      <td>0.8279</td>\n",
              "      <td>0.8627</td>\n",
              "      <td>0.6963</td>\n",
              "      <td>0.4928</td>\n",
              "    </tr>\n",
              "    <tr>\n",
              "      <th>SVM</th>\n",
              "      <td>0.8216</td>\n",
              "      <td>0.8540</td>\n",
              "      <td>0.7507</td>\n",
              "      <td>0.3750</td>\n",
              "    </tr>\n",
              "    <tr>\n",
              "      <th>Decision Tree</th>\n",
              "      <td>0.8067</td>\n",
              "      <td>0.7428</td>\n",
              "      <td>0.5887</td>\n",
              "      <td>0.6190</td>\n",
              "    </tr>\n",
              "    <tr>\n",
              "      <th>LDA</th>\n",
              "      <td>0.8041</td>\n",
              "      <td>0.8208</td>\n",
              "      <td>0.7250</td>\n",
              "      <td>0.2884</td>\n",
              "    </tr>\n",
              "    <tr>\n",
              "      <th>KNN</th>\n",
              "      <td>0.7638</td>\n",
              "      <td>0.7283</td>\n",
              "      <td>0.5121</td>\n",
              "      <td>0.3125</td>\n",
              "    </tr>\n",
              "    <tr>\n",
              "      <th>QDA</th>\n",
              "      <td>0.5742</td>\n",
              "      <td>0.8036</td>\n",
              "      <td>0.3488</td>\n",
              "      <td>0.9026</td>\n",
              "    </tr>\n",
              "    <tr>\n",
              "      <th>Naive Bayes</th>\n",
              "      <td>0.4458</td>\n",
              "      <td>0.7915</td>\n",
              "      <td>0.2933</td>\n",
              "      <td>0.9435</td>\n",
              "    </tr>\n",
              "  </tbody>\n",
              "</table>\n",
              "</div>\n",
              "    <div class=\"colab-df-buttons\">\n",
              "\n",
              "  <div class=\"colab-df-container\">\n",
              "    <button class=\"colab-df-convert\" onclick=\"convertToInteractive('df-8f0d56c3-8ca8-4f4b-8028-6c48fa9e194c')\"\n",
              "            title=\"Convert this dataframe to an interactive table.\"\n",
              "            style=\"display:none;\">\n",
              "\n",
              "  <svg xmlns=\"http://www.w3.org/2000/svg\" height=\"24px\" viewBox=\"0 -960 960 960\">\n",
              "    <path d=\"M120-120v-720h720v720H120Zm60-500h600v-160H180v160Zm220 220h160v-160H400v160Zm0 220h160v-160H400v160ZM180-400h160v-160H180v160Zm440 0h160v-160H620v160ZM180-180h160v-160H180v160Zm440 0h160v-160H620v160Z\"/>\n",
              "  </svg>\n",
              "    </button>\n",
              "\n",
              "  <style>\n",
              "    .colab-df-container {\n",
              "      display:flex;\n",
              "      gap: 12px;\n",
              "    }\n",
              "\n",
              "    .colab-df-convert {\n",
              "      background-color: #E8F0FE;\n",
              "      border: none;\n",
              "      border-radius: 50%;\n",
              "      cursor: pointer;\n",
              "      display: none;\n",
              "      fill: #1967D2;\n",
              "      height: 32px;\n",
              "      padding: 0 0 0 0;\n",
              "      width: 32px;\n",
              "    }\n",
              "\n",
              "    .colab-df-convert:hover {\n",
              "      background-color: #E2EBFA;\n",
              "      box-shadow: 0px 1px 2px rgba(60, 64, 67, 0.3), 0px 1px 3px 1px rgba(60, 64, 67, 0.15);\n",
              "      fill: #174EA6;\n",
              "    }\n",
              "\n",
              "    .colab-df-buttons div {\n",
              "      margin-bottom: 4px;\n",
              "    }\n",
              "\n",
              "    [theme=dark] .colab-df-convert {\n",
              "      background-color: #3B4455;\n",
              "      fill: #D2E3FC;\n",
              "    }\n",
              "\n",
              "    [theme=dark] .colab-df-convert:hover {\n",
              "      background-color: #434B5C;\n",
              "      box-shadow: 0px 1px 3px 1px rgba(0, 0, 0, 0.15);\n",
              "      filter: drop-shadow(0px 1px 2px rgba(0, 0, 0, 0.3));\n",
              "      fill: #FFFFFF;\n",
              "    }\n",
              "  </style>\n",
              "\n",
              "    <script>\n",
              "      const buttonEl =\n",
              "        document.querySelector('#df-8f0d56c3-8ca8-4f4b-8028-6c48fa9e194c button.colab-df-convert');\n",
              "      buttonEl.style.display =\n",
              "        google.colab.kernel.accessAllowed ? 'block' : 'none';\n",
              "\n",
              "      async function convertToInteractive(key) {\n",
              "        const element = document.querySelector('#df-8f0d56c3-8ca8-4f4b-8028-6c48fa9e194c');\n",
              "        const dataTable =\n",
              "          await google.colab.kernel.invokeFunction('convertToInteractive',\n",
              "                                                    [key], {});\n",
              "        if (!dataTable) return;\n",
              "\n",
              "        const docLinkHtml = 'Like what you see? Visit the ' +\n",
              "          '<a target=\"_blank\" href=https://colab.research.google.com/notebooks/data_table.ipynb>data table notebook</a>'\n",
              "          + ' to learn more about interactive tables.';\n",
              "        element.innerHTML = '';\n",
              "        dataTable['output_type'] = 'display_data';\n",
              "        await google.colab.output.renderOutput(dataTable, element);\n",
              "        const docLink = document.createElement('div');\n",
              "        docLink.innerHTML = docLinkHtml;\n",
              "        element.appendChild(docLink);\n",
              "      }\n",
              "    </script>\n",
              "  </div>\n",
              "\n",
              "\n",
              "    <div id=\"df-86290501-9db5-4ec3-96ab-ea2f7b979629\">\n",
              "      <button class=\"colab-df-quickchart\" onclick=\"quickchart('df-86290501-9db5-4ec3-96ab-ea2f7b979629')\"\n",
              "                title=\"Suggest charts\"\n",
              "                style=\"display:none;\">\n",
              "\n",
              "<svg xmlns=\"http://www.w3.org/2000/svg\" height=\"24px\"viewBox=\"0 0 24 24\"\n",
              "     width=\"24px\">\n",
              "    <g>\n",
              "        <path d=\"M19 3H5c-1.1 0-2 .9-2 2v14c0 1.1.9 2 2 2h14c1.1 0 2-.9 2-2V5c0-1.1-.9-2-2-2zM9 17H7v-7h2v7zm4 0h-2V7h2v10zm4 0h-2v-4h2v4z\"/>\n",
              "    </g>\n",
              "</svg>\n",
              "      </button>\n",
              "\n",
              "<style>\n",
              "  .colab-df-quickchart {\n",
              "      --bg-color: #E8F0FE;\n",
              "      --fill-color: #1967D2;\n",
              "      --hover-bg-color: #E2EBFA;\n",
              "      --hover-fill-color: #174EA6;\n",
              "      --disabled-fill-color: #AAA;\n",
              "      --disabled-bg-color: #DDD;\n",
              "  }\n",
              "\n",
              "  [theme=dark] .colab-df-quickchart {\n",
              "      --bg-color: #3B4455;\n",
              "      --fill-color: #D2E3FC;\n",
              "      --hover-bg-color: #434B5C;\n",
              "      --hover-fill-color: #FFFFFF;\n",
              "      --disabled-bg-color: #3B4455;\n",
              "      --disabled-fill-color: #666;\n",
              "  }\n",
              "\n",
              "  .colab-df-quickchart {\n",
              "    background-color: var(--bg-color);\n",
              "    border: none;\n",
              "    border-radius: 50%;\n",
              "    cursor: pointer;\n",
              "    display: none;\n",
              "    fill: var(--fill-color);\n",
              "    height: 32px;\n",
              "    padding: 0;\n",
              "    width: 32px;\n",
              "  }\n",
              "\n",
              "  .colab-df-quickchart:hover {\n",
              "    background-color: var(--hover-bg-color);\n",
              "    box-shadow: 0 1px 2px rgba(60, 64, 67, 0.3), 0 1px 3px 1px rgba(60, 64, 67, 0.15);\n",
              "    fill: var(--button-hover-fill-color);\n",
              "  }\n",
              "\n",
              "  .colab-df-quickchart-complete:disabled,\n",
              "  .colab-df-quickchart-complete:disabled:hover {\n",
              "    background-color: var(--disabled-bg-color);\n",
              "    fill: var(--disabled-fill-color);\n",
              "    box-shadow: none;\n",
              "  }\n",
              "\n",
              "  .colab-df-spinner {\n",
              "    border: 2px solid var(--fill-color);\n",
              "    border-color: transparent;\n",
              "    border-bottom-color: var(--fill-color);\n",
              "    animation:\n",
              "      spin 1s steps(1) infinite;\n",
              "  }\n",
              "\n",
              "  @keyframes spin {\n",
              "    0% {\n",
              "      border-color: transparent;\n",
              "      border-bottom-color: var(--fill-color);\n",
              "      border-left-color: var(--fill-color);\n",
              "    }\n",
              "    20% {\n",
              "      border-color: transparent;\n",
              "      border-left-color: var(--fill-color);\n",
              "      border-top-color: var(--fill-color);\n",
              "    }\n",
              "    30% {\n",
              "      border-color: transparent;\n",
              "      border-left-color: var(--fill-color);\n",
              "      border-top-color: var(--fill-color);\n",
              "      border-right-color: var(--fill-color);\n",
              "    }\n",
              "    40% {\n",
              "      border-color: transparent;\n",
              "      border-right-color: var(--fill-color);\n",
              "      border-top-color: var(--fill-color);\n",
              "    }\n",
              "    60% {\n",
              "      border-color: transparent;\n",
              "      border-right-color: var(--fill-color);\n",
              "    }\n",
              "    80% {\n",
              "      border-color: transparent;\n",
              "      border-right-color: var(--fill-color);\n",
              "      border-bottom-color: var(--fill-color);\n",
              "    }\n",
              "    90% {\n",
              "      border-color: transparent;\n",
              "      border-bottom-color: var(--fill-color);\n",
              "    }\n",
              "  }\n",
              "</style>\n",
              "\n",
              "      <script>\n",
              "        async function quickchart(key) {\n",
              "          const quickchartButtonEl =\n",
              "            document.querySelector('#' + key + ' button');\n",
              "          quickchartButtonEl.disabled = true;  // To prevent multiple clicks.\n",
              "          quickchartButtonEl.classList.add('colab-df-spinner');\n",
              "          try {\n",
              "            const charts = await google.colab.kernel.invokeFunction(\n",
              "                'suggestCharts', [key], {});\n",
              "          } catch (error) {\n",
              "            console.error('Error during call to suggestCharts:', error);\n",
              "          }\n",
              "          quickchartButtonEl.classList.remove('colab-df-spinner');\n",
              "          quickchartButtonEl.classList.add('colab-df-quickchart-complete');\n",
              "        }\n",
              "        (() => {\n",
              "          let quickchartButtonEl =\n",
              "            document.querySelector('#df-86290501-9db5-4ec3-96ab-ea2f7b979629 button');\n",
              "          quickchartButtonEl.style.display =\n",
              "            google.colab.kernel.accessAllowed ? 'block' : 'none';\n",
              "        })();\n",
              "      </script>\n",
              "    </div>\n",
              "\n",
              "    </div>\n",
              "  </div>\n"
            ],
            "application/vnd.google.colaboratory.intrinsic+json": {
              "type": "dataframe",
              "summary": "{\n  \"name\": \"df_results\",\n  \"rows\": 11,\n  \"fields\": [\n    {\n      \"column\": \"Accuracy\",\n      \"properties\": {\n        \"dtype\": \"number\",\n        \"std\": 0.135210560372937,\n        \"min\": 0.4458,\n        \"max\": 0.869,\n        \"num_unique_values\": 11,\n        \"samples\": [\n          0.8216,\n          0.869,\n          0.5742\n        ],\n        \"semantic_type\": \"\",\n        \"description\": \"\"\n      }\n    },\n    {\n      \"column\": \"ROC_AUC\",\n      \"properties\": {\n        \"dtype\": \"number\",\n        \"std\": 0.06204129709680921,\n        \"min\": 0.7283,\n        \"max\": 0.9112,\n        \"num_unique_values\": 11,\n        \"samples\": [\n          0.854,\n          0.9112,\n          0.8036\n        ],\n        \"semantic_type\": \"\",\n        \"description\": \"\"\n      }\n    },\n    {\n      \"column\": \"Precision\",\n      \"properties\": {\n        \"dtype\": \"number\",\n        \"std\": 0.17641906411104835,\n        \"min\": 0.2933,\n        \"max\": 0.784,\n        \"num_unique_values\": 11,\n        \"samples\": [\n          0.7507,\n          0.7829,\n          0.3488\n        ],\n        \"semantic_type\": \"\",\n        \"description\": \"\"\n      }\n    },\n    {\n      \"column\": \"Recall\",\n      \"properties\": {\n        \"dtype\": \"number\",\n        \"std\": 0.2131380551320072,\n        \"min\": 0.2884,\n        \"max\": 0.9435,\n        \"num_unique_values\": 11,\n        \"samples\": [\n          0.375,\n          0.625,\n          0.9026\n        ],\n        \"semantic_type\": \"\",\n        \"description\": \"\"\n      }\n    }\n  ]\n}"
            }
          },
          "metadata": {},
          "execution_count": 142
        }
      ]
    },
    {
      "cell_type": "markdown",
      "source": [
        "The result shows that gradient boosting outperforms other algorithm in terms of:\n",
        "- Accuracy: ~87%  => predict correctly\n",
        "- ROC_AUC_score: ~91%  => percent of prediction not random\n"
      ],
      "metadata": {
        "id": "Zzr_PVFtwDXm"
      }
    },
    {
      "cell_type": "code",
      "source": [
        "# Compare against basseline (guess all 0 - no churn at all)\n",
        "from sklearn.metrics import accuracy_score, roc_auc_score\n",
        "print(f' Accuracy: {accuracy_score(y_final, np.zeros_like(y_final)):.4f} and ROC_AUC score: {roc_auc_score(y_final, np.zeros_like(y_final)):.4f}')"
      ],
      "metadata": {
        "colab": {
          "base_uri": "https://localhost:8080/"
        },
        "id": "W1IHd0Y3wc71",
        "outputId": "3bd2eb5a-b9c7-450c-e320-34ec7e69b541"
      },
      "execution_count": 133,
      "outputs": [
        {
          "output_type": "stream",
          "name": "stdout",
          "text": [
            " Accuracy: 0.7621 and ROC_AUC score: 0.5000\n"
          ]
        }
      ]
    },
    {
      "cell_type": "markdown",
      "source": [
        "Gradient Boosting is the best choice:\n",
        "- It has highest Accuracy, higher than blind guessing every customers as no churn\n",
        "- It could balance between recall and precision\n",
        "- ROC_AUC means model will assign higher value for churn (1) than for retain (0) about 91% of the time."
      ],
      "metadata": {
        "id": "piUr70xneJsh"
      }
    },
    {
      "cell_type": "markdown",
      "source": [
        " ## Run Gradient Boosting on main data\n",
        " I used data splitted from the section 1: train test split"
      ],
      "metadata": {
        "id": "c9agn9YExH_p"
      }
    },
    {
      "cell_type": "markdown",
      "source": [
        "Hyper-param fine-tuning"
      ],
      "metadata": {
        "id": "G44vSH2vfOO6"
      }
    },
    {
      "cell_type": "code",
      "source": [
        "# Hyper-param fine-tuning using GridSearchCV\n",
        "from sklearn.model_selection import GridSearchCV\n",
        "\n",
        "# Fine-tuning\n",
        "param_grid = {\n",
        "    'n_estimators': [100, 200, 300],\n",
        "    'learning_rate': [0.01, 0.05, 0.1, 0.15, 0.2],\n",
        "    'max_depth': [1, 3, 5, 7, 9]\n",
        "}\n",
        "\n",
        "grid = GridSearchCV(GradientBoostingClassifier(), param_grid, cv=5)\n",
        "grid.fit(X_train_scaled, y_train)\n",
        "print(\"Best parameters:\", grid.best_params_)"
      ],
      "metadata": {
        "colab": {
          "base_uri": "https://localhost:8080/"
        },
        "id": "EZgpwKeMy2Om",
        "outputId": "d1404d9d-39c7-4c74-cae3-a15caa0b802c"
      },
      "execution_count": 134,
      "outputs": [
        {
          "output_type": "stream",
          "name": "stdout",
          "text": [
            "Best parameters: {'learning_rate': 0.01, 'max_depth': 7, 'n_estimators': 300}\n"
          ]
        }
      ]
    },
    {
      "cell_type": "markdown",
      "source": [
        "Model fitting"
      ],
      "metadata": {
        "id": "h4iaVkwGlCRg"
      }
    },
    {
      "cell_type": "code",
      "source": [
        "# Fit the model\n",
        "from sklearn.ensemble import GradientBoostingClassifier\n",
        "from sklearn.metrics import accuracy_score, precision_score, recall_score\n",
        "\n",
        "# Initialize model\n",
        "model_main = GradientBoostingClassifier(n_estimators=300, learning_rate=0.01, max_depth=7, random_state=42)\n",
        "\n",
        "# Fit the model on training data\n",
        "model_main.fit(X_train_scaled, y_train)\n",
        "\n",
        "# Predict on validation data\n",
        "y_pred = model_main.predict(X_val_scaled)\n",
        "\n",
        "# Calculate metrics\n",
        "accuracy = accuracy_score(y_val, y_pred)\n",
        "precision = precision_score(y_val, y_pred)\n",
        "recall = recall_score(y_val, y_pred)\n",
        "\n",
        "# Print results\n",
        "print(f\"Accuracy : {accuracy:.4f}\")\n",
        "print(f\"Precision: {precision:.4f}\")\n",
        "print(f\"Recall   : {recall:.4f}\")\n"
      ],
      "metadata": {
        "colab": {
          "base_uri": "https://localhost:8080/"
        },
        "id": "hfutAOp75Yoa",
        "outputId": "10d32720-48dc-478e-a8ce-68ff940327f5"
      },
      "execution_count": 135,
      "outputs": [
        {
          "output_type": "stream",
          "name": "stdout",
          "text": [
            "Accuracy : 0.9247\n",
            "Precision: 0.8728\n",
            "Recall   : 0.7848\n"
          ]
        }
      ]
    },
    {
      "cell_type": "markdown",
      "source": [
        "Testing the model using hold-out set"
      ],
      "metadata": {
        "id": "pjKQkhZOlJz5"
      }
    },
    {
      "cell_type": "code",
      "source": [
        "# Fit into main_model\n",
        "y_test_pred = model_main.predict(X_test_scaled)\n",
        "\n",
        "# Calculate metrics\n",
        "accuracy_test = accuracy_score(y_test, y_test_pred)\n",
        "precision_test = precision_score(y_test, y_test_pred)\n",
        "recall_test = recall_score(y_test, y_test_pred)\n",
        "\n",
        "# Print results\n",
        "print(f\"Accuracy : {accuracy_test:.4f}\")\n",
        "print(f\"Precision: {precision_test:.4f}\")\n",
        "print(f\"Recall   : {recall_test:.4f}\")"
      ],
      "metadata": {
        "colab": {
          "base_uri": "https://localhost:8080/"
        },
        "id": "mcUUUDBc--nt",
        "outputId": "106a3619-1ab2-4eb8-981d-f0298902ee57"
      },
      "execution_count": 136,
      "outputs": [
        {
          "output_type": "stream",
          "name": "stdout",
          "text": [
            "Accuracy : 0.9184\n",
            "Precision: 0.8655\n",
            "Recall   : 0.7943\n"
          ]
        }
      ]
    },
    {
      "cell_type": "markdown",
      "source": [
        "- The model performs well on testing sets\n",
        "- All of accuracy, precision and recall are high, quite close to the validation set\n"
      ],
      "metadata": {
        "id": "Kq_U29YtEUmY"
      }
    },
    {
      "cell_type": "markdown",
      "source": [
        "## Feature importance"
      ],
      "metadata": {
        "id": "JZezQLjEBG55"
      }
    },
    {
      "cell_type": "markdown",
      "source": [
        "To evaluate which factors most affecting whether a customer churn or not, I use Shapp"
      ],
      "metadata": {
        "id": "SDcEfPUUGtIg"
      }
    },
    {
      "cell_type": "code",
      "source": [
        "import shap\n",
        "shap_value = shap.Explainer(model_main).shap_values(X_val_scaled)\n",
        "shap.summary_plot(shap_value, X_val_scaled, plot_type='bar', plot_size=(17,5.6))"
      ],
      "metadata": {
        "colab": {
          "base_uri": "https://localhost:8080/",
          "height": 347
        },
        "id": "xGNWQpTOBJQO",
        "outputId": "a01a37fe-9eb4-4ba9-b919-c7998abad571"
      },
      "execution_count": 139,
      "outputs": [
        {
          "output_type": "display_data",
          "data": {
            "text/plain": [
              "<Figure size 1700x560 with 1 Axes>"
            ],
            "image/png": "[encoded data removed]"
          },
          "metadata": {}
        }
      ]
    },
    {
      "cell_type": "markdown",
      "source": [
        "The chart shows PPA to be the outstandingly important feature making someone either 1 or 0:\n",
        "- Therefore, Highland should pay close attention to both Spending and Fre#Visit of customers to determine if they are churn or not\n",
        "- Especially, they should pay attention to Fre#visit over Spending because as shown in chart, Fre#visit is the second most important feature"
      ],
      "metadata": {
        "id": "xNQ2-neYI7PL"
      }
    },
    {
      "cell_type": "markdown",
      "source": [
        "# Final recommendation"
      ],
      "metadata": {
        "id": "V4lBjyEdCp7p"
      }
    },
    {
      "cell_type": "markdown",
      "source": [
        "Highlands Coffee could:\n",
        "- Use my model to predict churn accurately about 91% of the time\n",
        "- The model could predict true churn correctly at about 87% of the time while it could also cover about 78% of churn cases.\n",
        "\n",
        "In the future:\n",
        "- Highlands coffee should focus especially on PPA (spend per visit) of customers to determine churns\n",
        "- PPA is made of Spending and Visit frequency. And as the Shapp chart shows Fre#visit is more important than Spending in predicting churn, they should prioritize looking at \"Visit frequency\" when comparing between customers of same PPA."
      ],
      "metadata": {
        "id": "7O5jsnoACsC_"
      }
    }
  ]
}