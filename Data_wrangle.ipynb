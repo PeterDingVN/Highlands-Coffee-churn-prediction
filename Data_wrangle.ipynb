{
  "nbformat": 4,
  "nbformat_minor": 0,
  "metadata": {
    "colab": {
      "provenance": [],
      "collapsed_sections": [
        "NAPViyOEUfyU"
      ]
    },
    "kernelspec": {
      "name": "python3",
      "display_name": "Python 3"
    },
    "language_info": {
      "name": "python"
    }
  },
  "cells": [
    {
      "cell_type": "markdown",
      "source": [
        "## Original data"
      ],
      "metadata": {
        "id": "KAa2TRAnjvca"
      }
    },
    {
      "cell_type": "markdown",
      "source": [
        "###**Load the data**"
      ],
      "metadata": {
        "id": "UDTk4AEak_lE"
      }
    },
    {
      "cell_type": "code",
      "execution_count": null,
      "metadata": {
        "id": "6EPEJbqoXx0O"
      },
      "outputs": [],
      "source": [
        "# Read raw dataset\n",
        "import pandas as pd\n",
        "\n",
        "# Customer\n",
        "df_demographic = pd.read_csv(r'/content/drive/MyDrive/Dataset/BI9_competition/Bản sao của SA#var.csv', sep=';')\n",
        "df_demographic.drop(columns = 'Col', inplace=True)\n",
        "df_segmentation = pd.read_csv(r'/content/drive/MyDrive/Dataset/BI9_competition/Bản sao của 2017Segmentation3685case.csv', sep=';')\n",
        "df_companion = pd.read_csv(r'/content/drive/MyDrive/Dataset/BI9_competition/Bản sao của Companion.csv', sep=';')\n",
        "df_day = pd.read_csv(r'/content/drive/MyDrive/Dataset/BI9_competition/Bản sao của Dayofweek.csv', sep=';')\n",
        "df_daypart = pd.read_csv(r'/content/drive/MyDrive/Dataset/BI9_competition/Bản sao của Daypart.csv', sep = ';')\n",
        "df_need = pd.read_csv(r'/content/drive/MyDrive/Dataset/BI9_competition/Bản sao của NeedstateDayDaypart.csv', sep=';')\n",
        "\n",
        "# Brand\n",
        "df_bhealth = pd.read_csv(r'/content/drive/MyDrive/Dataset/BI9_competition/Bản sao của Brandhealth.csv', sep=';', low_memory=False)\n",
        "df_bimage = pd.read_csv(r'/content/drive/MyDrive/Dataset/BI9_competition/Bản sao của Brand_Image.csv', sep=';')\n",
        "\n",
        "# Competitor\n",
        "df_compete = pd.read_csv(r'/content/drive/MyDrive/Dataset/BI9_competition/Bản sao của Competitor database_xlnm#_FilterDatabase.csv', sep=';')"
      ]
    },
    {
      "cell_type": "markdown",
      "source": [
        "### df_companion"
      ],
      "metadata": {
        "id": "QHV10N4pqtA0"
      }
    },
    {
      "cell_type": "code",
      "source": [
        "# drop duplication\n",
        "df_companion.drop_duplicates(inplace=True)"
      ],
      "metadata": {
        "id": "N6MYdM2Trw5s"
      },
      "execution_count": null,
      "outputs": []
    },
    {
      "cell_type": "markdown",
      "source": [
        "### df_day"
      ],
      "metadata": {
        "id": "hl_p12cNsMAz"
      }
    },
    {
      "cell_type": "code",
      "source": [
        "# df_day has ~54 nulls -> 0.01% of data -> drop\n",
        "df_day.dropna(inplace=True)\n",
        "# drop duplicated rows\n",
        "df_day.drop_duplicates(inplace=True)"
      ],
      "metadata": {
        "id": "Xwtc0wMasL1D"
      },
      "execution_count": null,
      "outputs": []
    },
    {
      "cell_type": "markdown",
      "source": [
        "### df_daypart"
      ],
      "metadata": {
        "id": "8vXpgzu3soPD"
      }
    },
    {
      "cell_type": "markdown",
      "source": [
        "Fill missing data for df_daypart for respondents interviewed more than once by:\n",
        "\n",
        "- Use median to estimate their Visit#Daypart in different interviews\n",
        "- Then drop cols that cannot be filled (due to the uniqueness of ID, we have no proof to make estimation)"
      ],
      "metadata": {
        "id": "hZELVTZXEY9n"
      }
    },
    {
      "cell_type": "code",
      "source": [
        "# Fill then drop for df_daypart\n",
        "# Assumption: People behavior will not suddenly change in short time (2017 - 2019)\n",
        "#             Therefore one ID will have same Visit#Daypart all along the data\n",
        "for i, v in enumerate(df_daypart['ID'].unique()):\n",
        "    sub_df = df_daypart[df_daypart['ID'] == v]\n",
        "    med_vals = sub_df['Visit#Daypart'].median()\n",
        "    if len(sub_df) <= 1:\n",
        "        continue\n",
        "    else:\n",
        "      df_daypart.loc[(df_daypart['ID'] == v) & (df_daypart['Visit#Daypart'].isnull()), 'Visit#Daypart'] = round(med_vals,0)\n",
        "# Drop the rest which can't be filled (due to small number)\n",
        "df_daypart.dropna(inplace=True)"
      ],
      "metadata": {
        "id": "h6SSLYLJzSqw"
      },
      "execution_count": null,
      "outputs": []
    },
    {
      "cell_type": "markdown",
      "source": [
        "### df_need"
      ],
      "metadata": {
        "id": "GLG86AOPvB-4"
      }
    },
    {
      "cell_type": "code",
      "source": [
        "# drop duplicated rows\n",
        "df_need.drop_duplicates(inplace=True)"
      ],
      "metadata": {
        "id": "OJOHetBFvNng"
      },
      "execution_count": null,
      "outputs": []
    },
    {
      "cell_type": "markdown",
      "source": [
        "### df_bhealth"
      ],
      "metadata": {
        "id": "EwSwB5drGZ5m"
      }
    },
    {
      "cell_type": "code",
      "source": [
        "# drop redudndant col\n",
        "df_bhealth.drop(columns = 'Spending_use', inplace=True)"
      ],
      "metadata": {
        "id": "TE2EfGYHy22G"
      },
      "execution_count": null,
      "outputs": []
    },
    {
      "cell_type": "code",
      "source": [
        "# We will assume Awareness = Spontaneous for ease of analysis further in question 4 and 5\n",
        "# First Fill Awareness with Spontaneous\n",
        "df_bhealth.loc[df_bhealth['Awareness'].isna(), 'Awareness'] = df_bhealth['Spontaneous']\n",
        "\n",
        "# Then delete all nulls\n",
        "# Because in ques 4 we are required to analyze process from Awareness -> Loyalty -> without Awarenes/Spontaneous this can't be done\n",
        "# And the number of null is small\n",
        "df_bhealth.dropna(subset='Awareness', inplace=True)\n",
        "\n",
        "# Finally drop Spontaneous column\n",
        "df_bhealth.drop(columns='Spontaneous', inplace=True)"
      ],
      "metadata": {
        "id": "LE4J79KzIpcU"
      },
      "execution_count": null,
      "outputs": []
    },
    {
      "cell_type": "markdown",
      "source": [
        "Since the table looks like a funnel in stage Aware - > Trial.\n",
        "- We assume where Trial is null, Trial can be filled as None, representing consumers stop moving on with the brand\n",
        "- However, if they either P3M, P1M, weekly, daily visit the brand or comprehend it (!= don't understand it at all or maybe don't understand) =>> they must have Tried the brand"
      ],
      "metadata": {
        "id": "_ZIRCQOxp0Cs"
      }
    },
    {
      "cell_type": "code",
      "source": [
        "condition = (\n",
        "    df_bhealth['P3M'].notna() |\n",
        "    df_bhealth['P1M'].notna() |\n",
        "    df_bhealth['Comprehension'].notna() &\n",
        "    df_bhealth['Comprehension'].isin(['Maybe do not know it', 'Do not know it at all']) |\n",
        "    df_bhealth['Weekly'].notna() |\n",
        "    df_bhealth['Daily'].notna()\n",
        ")\n",
        "\n",
        "df_bhealth.loc[df_bhealth['Trial'].isna() & condition, 'Trial'] = df_bhealth['Awareness']\n",
        "df_bhealth.loc[df_bhealth['Trial'].isna(), 'Trial'] = 'None'\n"
      ],
      "metadata": {
        "id": "pb6cYLtEqE3Z"
      },
      "execution_count": null,
      "outputs": []
    },
    {
      "cell_type": "markdown",
      "source": [
        "NPS is the likelihood of someone recommending the brand:\n",
        "- So we will fill NaN rows with values in rows of similar ID and Year\n",
        "- This means people's NPS is same in one year but can change throughout time\n",
        "- We assume NPS has nothing to do with the brand but rather the personality of the customer"
      ],
      "metadata": {
        "id": "OydIzitxScgp"
      }
    },
    {
      "cell_type": "code",
      "source": [
        "# NPS#P3M\n",
        "df_bhealth['NPS#P3M'] = df_bhealth.groupby(['ID', 'Year'])['NPS#P3M'].transform(lambda x: x.ffill().bfill())"
      ],
      "metadata": {
        "id": "E9vJ7LoRe_9U"
      },
      "execution_count": null,
      "outputs": []
    },
    {
      "cell_type": "code",
      "source": [
        "# Fill NPS Group (No score for people not having NPS data)\n",
        "df_bhealth['NPS#P3M#Group'] = df_bhealth['NPS#P3M']. \\\n",
        "                              apply(lambda x:\n",
        "                                    'Detractor' if x >= 0 and x <=6 else\n",
        "                                    'Passiver' if x >=7 and x <=8 else\n",
        "                                    'Promoter' if x >=9 and x <=10 else\n",
        "                                    'None type')"
      ],
      "metadata": {
        "id": "4JynznNAkiXw"
      },
      "execution_count": null,
      "outputs": []
    },
    {
      "cell_type": "markdown",
      "source": [
        "Apply the same rule for other column:\n",
        "- Same ID -> same values\n",
        "- Because everyone is interviewed once, and that a person visits one brand does not mean he/she also visits the other brand\n",
        "- We decided to fill P1M and P3M \"None at all\" where null\n",
        "- Same for Daily and Weekly"
      ],
      "metadata": {
        "id": "xbQv3a4s6Fvr"
      }
    },
    {
      "cell_type": "code",
      "source": [
        "# P1M and P3M\n",
        "df_bhealth.loc[df_bhealth['P3M'].isna(), 'P3M'] = 'None at all'\n",
        "df_bhealth.loc[df_bhealth['P1M'].isna(), 'P1M'] = 'None at all'\n",
        "\n",
        "# Comprehend\n",
        "# As we have no clue if the customers comprehend the brand or not, we'll rename as \"Unanswered\"\n",
        "df_bhealth.loc[df_bhealth['Comprehension'].isna(), 'Comprehension'] = 'Unanswered'\n",
        "\n",
        "# Brand_likability\n",
        "# The definition in dict is not same as its content -> drop\n",
        "df_bhealth.drop(columns = 'Brand_Likability', inplace=True)\n",
        "\n",
        "# Weekly\n",
        "df_bhealth.loc[df_bhealth['Weekly'].isna(), 'Weekly'] = 'Not Applicable'\n",
        "# Daily\n",
        "df_bhealth.loc[df_bhealth['Daily'].isna(), 'Daily'] = 'Not Applicable'"
      ],
      "metadata": {
        "id": "KfaeDHxG6mMy"
      },
      "execution_count": null,
      "outputs": []
    },
    {
      "cell_type": "markdown",
      "source": [
        "For PPA, Spending, and Visit:\n",
        "- We have data in year 2017 located in Segmentation table\n",
        "- We can fill data relying on data in 2017Segmentation"
      ],
      "metadata": {
        "id": "JXAm0tkSUrNC"
      }
    },
    {
      "cell_type": "code",
      "source": [
        "# PPA\n",
        "# we group by ID and used median as final value to avoid distorted result due to outliers\n",
        "df_seg = df_segmentation.groupby('ID').agg(\n",
        "    PPA = ('PPA', 'median'),\n",
        "    Spending = ('Spending', 'median'),\n",
        "    Visit = ('Visit', 'median')\n",
        ").reset_index()\n",
        "\n",
        "df_bh = df_bhealth.merge(\n",
        "    df_seg[['ID','PPA']],\n",
        "    on= 'ID',\n",
        "    how='left',\n",
        "    suffixes=('', '_from_seg')\n",
        ")\n",
        "\n",
        "df_bhealth['PPA'] = df_bhealth['PPA'].combine_first(df_bh['PPA_from_seg'])"
      ],
      "metadata": {
        "collapsed": true,
        "id": "JB4FHXEr8oO1"
      },
      "execution_count": null,
      "outputs": []
    },
    {
      "cell_type": "code",
      "source": [
        "# Spending\n",
        "# Same process\n",
        "df_bk = df_bhealth.merge(\n",
        "    df_seg[['ID', 'Spending']],\n",
        "    on= ['ID'],\n",
        "    how='left',\n",
        "    suffixes=('', '_from_seg')\n",
        ")\n",
        "\n",
        "df_bhealth['Spending'] = df_bhealth['Spending'].combine_first(df_bk['Spending_from_seg'])"
      ],
      "metadata": {
        "id": "pNOsECB9LArw"
      },
      "execution_count": null,
      "outputs": []
    },
    {
      "cell_type": "code",
      "source": [
        "# Fre#Visit\n",
        "# Same process\n",
        "df_bz = df_bhealth.merge(\n",
        "    df_seg[['ID', 'Visit']],\n",
        "    on= ['ID'],\n",
        "    how='left'\n",
        ")\n",
        "\n",
        "df_bhealth['Fre#visit'] = df_bhealth['Fre#visit'].combine_first(df_bz['Visit'])"
      ],
      "metadata": {
        "id": "HA4rP627SZGn"
      },
      "execution_count": null,
      "outputs": []
    },
    {
      "cell_type": "code",
      "source": [
        "# Fill in segmentation\n",
        "df_bhealth.loc[df_bhealth['PPA']<25, 'Segmentation'] = 'Seg.01 - Mass (<VND 25K)'\n",
        "df_bhealth.loc[(df_bhealth['PPA']>=25) & (df_bhealth['PPA']<60), 'Segmentation'] = 'Seg.02 - Mass Asp (VND 25K - VND 59K)'\n",
        "df_bhealth.loc[(df_bhealth['PPA']>=60) & (df_bhealth['PPA']<100), 'Segmentation'] = 'Seg.03 - Premium (VND 60K - VND 99K)'\n",
        "df_bhealth.loc[df_bhealth['PPA']>=100, 'Segmentation'] = 'Seg.04 - Super Premium (VND 100K+)'\n",
        "df_bhealth.loc[df_bhealth['PPA'].isna() == True, 'Segmentation'] = 'Unindentified'"
      ],
      "metadata": {
        "id": "AJJqH3vCL4Mb"
      },
      "execution_count": null,
      "outputs": []
    },
    {
      "cell_type": "markdown",
      "source": [
        "\n",
        "Since we have no clue to fill PPA, Spending, Visit that are still null:\n",
        "- The data may be in year 2018 2019 -> no table usable to fill\n",
        "- The data could be in 2017 but not to be found outside bhealth table"
      ],
      "metadata": {
        "id": "PS7h-ioLVq-R"
      }
    },
    {
      "cell_type": "markdown",
      "source": [
        "We decided to keep the null as they are for the integrity of data to be remained"
      ],
      "metadata": {
        "id": "68aa0AWeWQm8"
      }
    },
    {
      "cell_type": "markdown",
      "source": [
        "Finally, Standardize formatting: Other 1, Other 2, ... ->> Other"
      ],
      "metadata": {
        "id": "gPt0HogO5MbR"
      }
    },
    {
      "cell_type": "code",
      "source": [
        "import re\n",
        "for col in ['Brand', 'Awareness', 'Trial', 'P3M', 'P1M', 'Comprehension', 'Weekly', 'Daily']:\n",
        "  df_bhealth[col] = df_bhealth[col].\\\n",
        "                    apply(\n",
        "                        lambda text: re.sub(r'^Other.*$', 'Other Brand', text)\n",
        ")\n",
        "  df_bhealth[col] = df_bhealth[col].\\\n",
        "                    apply(\n",
        "                        lambda text:\n",
        "                        re.sub(r'^Street.*$', 'Street/Half street coffee', text))\n",
        "\n",
        "# Drop duplicates that has been born\n",
        "# We need to delete them\n",
        "df_bhealth.drop_duplicates(inplace=True)"
      ],
      "metadata": {
        "id": "8R16efLU4bk_"
      },
      "execution_count": null,
      "outputs": []
    },
    {
      "cell_type": "markdown",
      "source": [
        "### df_bimage"
      ],
      "metadata": {
        "id": "X2CVut1UvqUn"
      }
    },
    {
      "cell_type": "markdown",
      "source": [
        "Standardize the name of column BrandImage"
      ],
      "metadata": {
        "id": "LNpjMkyilJdZ"
      }
    },
    {
      "cell_type": "code",
      "source": [
        "import re\n",
        "for col in df_bimage.select_dtypes('object').columns:\n",
        "  df_bimage[col] = df_bimage[col].\\\n",
        "                    apply(\n",
        "                        lambda text:\n",
        "                        re.sub(r'^Other.*$', 'Other Brand',\n",
        "                        str(text)))\n",
        "  df_bimage[col] = df_bimage[col].\\\n",
        "                    apply(\n",
        "                        lambda text:\n",
        "                        re.sub(r'^Street.*$', 'Street/Half street coffee',\n",
        "                        str(text)))"
      ],
      "metadata": {
        "id": "gwOPyr6elJjy"
      },
      "execution_count": null,
      "outputs": []
    },
    {
      "cell_type": "markdown",
      "source": [
        "Awareness should be dropped:\n",
        "- It's a duplication of BrandImage (except for location = NaN)\n",
        "- It does not have as much data as BrandImage"
      ],
      "metadata": {
        "id": "IhzXSTUtOucw"
      }
    },
    {
      "cell_type": "code",
      "source": [
        "df_bimage.drop(columns='Awareness', inplace=True)"
      ],
      "metadata": {
        "id": "FVHRW3bNO4Jo"
      },
      "execution_count": null,
      "outputs": []
    },
    {
      "cell_type": "markdown",
      "source": [
        "Drop dupliacted rows"
      ],
      "metadata": {
        "id": "UZIJueDkzzkd"
      }
    },
    {
      "cell_type": "code",
      "source": [
        "# drop duplicated rows\n",
        "df_bimage.drop_duplicates(inplace=True)"
      ],
      "metadata": {
        "id": "dmEo3__KngH8"
      },
      "execution_count": null,
      "outputs": []
    },
    {
      "cell_type": "markdown",
      "source": [
        "### df_compte"
      ],
      "metadata": {
        "id": "UQ8TLm1eD9yn"
      }
    },
    {
      "cell_type": "code",
      "source": [
        "# column No# is redun\n",
        "df_compete.drop(columns = 'No#', inplace =True)"
      ],
      "metadata": {
        "id": "iT57jY25D8um"
      },
      "execution_count": null,
      "outputs": []
    },
    {
      "cell_type": "markdown",
      "source": [
        "### df_demographic"
      ],
      "metadata": {
        "id": "mAqjuCi5DCZQ"
      }
    },
    {
      "cell_type": "code",
      "source": [
        "# drop the duplicated cols\n",
        "# MPI#Mean == MPI_Mean_Use\n",
        "df_demographic.drop(columns = 'MPI#Mean', inplace=True)\n",
        "# df_demographic table\n",
        "df_demographic.drop(columns = ['MPI#2'], inplace=True)"
      ],
      "metadata": {
        "id": "7u_-DB6-mVfB"
      },
      "execution_count": null,
      "outputs": []
    },
    {
      "cell_type": "code",
      "source": [
        "# dropna demographic with cols with little nulls (under 20 nulls in total)\n",
        "df_demographic.dropna(subset=['Age', 'Group_size'], inplace=True)"
      ],
      "metadata": {
        "id": "4mLefk7ZDObp"
      },
      "execution_count": null,
      "outputs": []
    },
    {
      "cell_type": "markdown",
      "source": [
        "We assume those saying nothing as Having no preferred brand before:\n",
        "- Because BUMO is fullly filled\n",
        "- Therefore, this means there should be no one refusing to respond to such type of question (about BUMO)\n",
        "- The only logical intepretation is they did not have previous BUMO"
      ],
      "metadata": {
        "id": "pjFu1bLtAxPj"
      }
    },
    {
      "cell_type": "code",
      "source": [
        "# df_demographic BUMO\n",
        "df_demographic.fillna({'BUMO_Previous':\"Don't have any brands\"}, inplace=True)"
      ],
      "metadata": {
        "id": "s7ssm-7AOpDw"
      },
      "execution_count": null,
      "outputs": []
    },
    {
      "cell_type": "markdown",
      "source": [
        "Next for MPI_Mean_use:\n",
        "- we see the volume of nulls are 30% -> drop is not suitable\n",
        "- we will fill based on Occupation#group\n",
        "- Our assumption is that people of same Occupation will have similar range of income\n",
        "- So we'll fill the median based on Occupation:\n",
        "  + median is better than mean for it avoids outlier better\n",
        "  + median better than mode because mode can go wrong if there is no values dominating in number"
      ],
      "metadata": {
        "id": "A-L5G3jBDgWj"
      }
    },
    {
      "cell_type": "code",
      "source": [
        "# Fill NA for MPI_Mean_Use\n",
        "for i, v in enumerate(df_demographic['Occupation'].unique()):\n",
        "    sub_df = df_demographic[df_demographic['Occupation'] == v]\n",
        "    med_vals = sub_df['MPI_Mean_Use'].median()\n",
        "    if len(sub_df) <= 1:\n",
        "        continue\n",
        "    else:\n",
        "      df_demographic.loc[(df_demographic['Occupation'] == v) & (df_demographic['MPI_Mean_Use'].isnull()), 'MPI_Mean_Use'] = med_vals"
      ],
      "metadata": {
        "id": "rjLqZBAdJRre"
      },
      "execution_count": null,
      "outputs": []
    },
    {
      "cell_type": "code",
      "source": [
        "# Now as MPI_Mean_Use nulls left are 13 only -> drop\n",
        "df_demographic.dropna(subset='MPI_Mean_Use',inplace=True)"
      ],
      "metadata": {
        "id": "EUE1iKGBK06H"
      },
      "execution_count": null,
      "outputs": []
    },
    {
      "cell_type": "markdown",
      "source": [
        "We discover that:\n",
        "- 'Self Employed \\xa0- Company owner (under 10 employees)' == 'Business Owner with less than 10 employees'\n",
        "- They also in the same occupation group"
      ],
      "metadata": {
        "id": "muZh6caMHaiC"
      }
    },
    {
      "cell_type": "code",
      "source": [
        "df_demographic['Occupation'] = df_demographic['Occupation'].replace(\n",
        "   {'Business Owner with less than 10 employees':\n",
        "    'Self Employed \\xa0- Company owner (under 10 employees)'})"
      ],
      "metadata": {
        "id": "piGQPWxiHmOW"
      },
      "execution_count": null,
      "outputs": []
    },
    {
      "cell_type": "markdown",
      "source": [
        "- Lastly for MPI#detail and MPI we can use the data from MPI_Mean_Use to help fill in accordingly\n",
        "\n",
        "- Admitedlly, by doing this, we mistakenly assign a range to the \"refuse\"\n",
        "- But as we assume: people of same Occupation will have same range\n",
        "- And the number of mislabelled Refuse is only 32 -> very small and negligible\n",
        "- =>>> filling is acceptable"
      ],
      "metadata": {
        "id": "CDsIiTSCLY_G"
      }
    },
    {
      "cell_type": "code",
      "source": [
        "# Fill MPI#detail\n",
        "bins = [0, 2990, 4490, 6490, 7490, 8990, 11990, 14990, 19990, 24990, 29990, 44990, 74990, 149990]\n",
        "labels = [\n",
        "    'Under 3 millions VND',\n",
        "    'From 3 millions to 4.49 millions VND',\n",
        "    'From 4.5 millions to 6.49 millions VND',\n",
        "    'From 6.5 millions to 7.49 millions VND',\n",
        "    'From 7.5 millions to 8.99 millions VND',\n",
        "    'From 9 millions to 11.99 millions VND',\n",
        "    'From 12 millions to 14.99 millions VND',\n",
        "    'From 15 millions to 19.99 millions VND',\n",
        "    'From 20 millions to 24.99 millions VND',\n",
        "    'From 25 millions to 29.99 millions VND',\n",
        "    'From 30 millions to 44.99 millions VND',\n",
        "    'From 45 millions to 74.99 millions VND',\n",
        "    'From 75 million to VND 149.99 million VND'\n",
        "]\n",
        "\n",
        "df_demographic['MPI#detail'] = pd.cut(df_demographic['MPI_Mean_Use'], bins=bins, labels=labels, right=True)"
      ],
      "metadata": {
        "id": "N-DKfJRUNM7L"
      },
      "execution_count": null,
      "outputs": []
    },
    {
      "cell_type": "code",
      "source": [
        "# Fill MPI\n",
        "import numpy as np\n",
        "bins = [0, 4500, 8900, 14900, 24900, np.inf]\n",
        "labels = [\n",
        "    'Under VND 4.5m',\n",
        "    'VND 4.5m - VND 8.9m',\n",
        "    'VND 9m - VND 14.9m',\n",
        "    'VND 15m - VND 24.9m',\n",
        "    'VND 25m+'\n",
        "]\n",
        "# Apply pd.cut\n",
        "df_demographic['MPI'] = pd.cut(df_demographic['MPI_Mean_Use'], bins=bins, labels=labels, right=True)\n"
      ],
      "metadata": {
        "id": "ZTLXmHfIPYj9"
      },
      "execution_count": null,
      "outputs": []
    },
    {
      "cell_type": "markdown",
      "source": [
        "Reformating label"
      ],
      "metadata": {
        "id": "mevMhj9O_d3z"
      }
    },
    {
      "cell_type": "code",
      "source": [
        "# reformat MPI detail\n",
        "def reformat_mpi_detail(text):\n",
        "  pattern1 = r'From (\\d+(?:\\.\\d+)?) millions to (\\d+(?:\\.\\d+)?) millions VND'\n",
        "  pattern2 = r'From (\\d+(?:\\.\\d+)?) million to VND (\\d+(?:\\.\\d+)?) million VND'\n",
        "  pattern3 = r'Under (\\d+(?:\\.\\d+)?) millions VND'\n",
        "\n",
        "  replacement = r'VND \\1m - VND \\2m'\n",
        "  repl_under = r'Under VND \\1m'\n",
        "\n",
        "  import re\n",
        "  if re.search(pattern1, text):\n",
        "      return re.sub(pattern1, replacement, text)\n",
        "  elif re.search(pattern2, text):\n",
        "      return re.sub(pattern2, replacement, text)\n",
        "  elif re.search(pattern3, text):\n",
        "      return re.sub(pattern3, repl_under, text)\n",
        "  else:\n",
        "      return text  # Leave unchanged if no match\n",
        "\n",
        "df_demographic['MPI#detail'] = df_demographic['MPI#detail'].apply(lambda text: reformat_mpi_detail(text))"
      ],
      "metadata": {
        "id": "SFnPiNR-_kri"
      },
      "execution_count": null,
      "outputs": []
    },
    {
      "cell_type": "code",
      "source": [
        "# reformat age group\n",
        "import re\n",
        "df_demographic['Age#Group#2']=df_demographic['Age#Group#2'].apply(\n",
        "    lambda age:\n",
        "    re.sub(r'(\\d+\\s*-\\s*\\d+|\\d+\\+)\\s*y\\.o\\.', r'\\1', age)\n",
        ")"
      ],
      "metadata": {
        "id": "pmeUngTgwcd6"
      },
      "execution_count": null,
      "outputs": []
    },
    {
      "cell_type": "code",
      "source": [
        "# reformat Other,Other 1, ... =>> Other Brand\n",
        "for col in ['TOM', 'BUMO', 'BUMO_Previous',\n",
        "            'MostFavourite', ]:\n",
        "  df_demographic[col] = df_demographic[col].\\\n",
        "                    apply(\n",
        "                        lambda text:\n",
        "                        re.sub(r'^Other.*$', 'Other Brand',\n",
        "                        text))\n",
        "  df_demographic[col] = df_demographic[col].\\\n",
        "                    apply(\n",
        "                        lambda text:\n",
        "                        re.sub(r'^Street.*$', 'Street/Half street coffee',\n",
        "                        text))"
      ],
      "metadata": {
        "id": "wCX_qzj_-OWZ"
      },
      "execution_count": null,
      "outputs": []
    },
    {
      "cell_type": "markdown",
      "source": [
        "## Data preparation for training"
      ],
      "metadata": {
        "id": "j2lmp7f2UxPl"
      }
    },
    {
      "cell_type": "markdown",
      "source": [
        "We will prepare the suggested data, grouping them into one table in\n",
        " preparation for clustering process"
      ],
      "metadata": {
        "id": "dZdkgf7wU67R"
      }
    },
    {
      "cell_type": "markdown",
      "source": [
        "Since we are dealing with Highland Coffee, we will limit the dataset to Highland coffee only"
      ],
      "metadata": {
        "id": "trYJyw0MlbBp"
      }
    },
    {
      "cell_type": "markdown",
      "source": [
        "To carry out clustering and segmentation, we need to compile a clean dataset, here are some criteria we based on to construct such table:\n",
        "- the table should holistically describe our customers' persona:\n",
        "  + Demographic: Age, MPI_Mean_use, Occupation group\n",
        "  + Psychology (need): Needstate#group\n",
        "  + Perception: NPS#P3M, Comprehension\n",
        "  + Behavior: Fre#Visit, PPA, Spending, Companion\n",
        "\n",
        "- the columns list above ensure that the data is holistic, covering all possible types of customers visiting Highlands, while also reducing the complexity of the data.\n",
        "- For example, instead of using Occupation, we use Occupation#Group. The latter contains fewer but still holistic items.\n",
        "- Also, this reduced complexity helps fasten the model without sacrificing accuracy.\n",
        "\n",
        "Next we will transform the data:\n",
        "- Delete NaN:\n",
        "  + we have tested with filling using median, KNN imputation (we have shortened our work by not including median and KNN imputation fill in this work)\n",
        "  + and the result returns unfavorable cluster. So we decided to **drop all nulls**\n",
        "- We also check for outliers to delete promptly outlying values that could weaken prediction ability of our model\n",
        "- We do one-hot encoding to turn category into calculable numeric form."
      ],
      "metadata": {
        "id": "rwcO9q7ghKXQ"
      }
    },
    {
      "cell_type": "code",
      "source": [
        "# Limit brand health survey to \"Highland Coffee\"\n",
        "# We choose bhealth because this has the most thorough list of ID\n",
        "# Also, bhealth has column Brand, making filtering easy\n",
        "\n",
        "# unique ID\n",
        "bhealth_highland = df_bhealth[df_bhealth['Brand']=='Highlands Coffee']\n",
        "bhealth_highland = bhealth_highland[['ID',\n",
        "                                    'Comprehension',\n",
        "                                     'Fre#visit',\n",
        "                                     'Spending',\n",
        "                                     'PPA',\n",
        "                                     'NPS#P3M']]\n",
        "# Limit the other required tables\n",
        "a = bhealth_highland['ID'].unique()\n",
        "\n",
        "# transform the other required table\n",
        "\n",
        "# Non_unique ID\n",
        "companion_highland = df_companion[df_companion['ID'].isin(a)]\n",
        "companion_highland = companion_highland[['ID',\n",
        "                                         'Companion#group']]\n",
        "\n",
        "# Non_unique ID\n",
        "need_highland = df_need[df_need['ID'].isin(a)]\n",
        "need_highland = need_highland[['ID',\n",
        "                               'NeedstateGroup']]\n",
        "\n",
        "# Unique ID\n",
        "demo_highland = df_demographic[df_demographic['ID'].isin(a)]\n",
        "demo_highland = demo_highland[['ID',\n",
        "                               'Age',\n",
        "                               'MPI_Mean_Use',\n",
        "                               'Occupation#group']]"
      ],
      "metadata": {
        "id": "EewVf1ZykCTJ"
      },
      "execution_count": null,
      "outputs": []
    },
    {
      "cell_type": "markdown",
      "source": [
        "We carry out one-hot encoding before dealing with NaN"
      ],
      "metadata": {
        "id": "Tvi2MxRQCYPK"
      }
    },
    {
      "cell_type": "markdown",
      "source": [
        "- One hot encoding for Non_unique Ids"
      ],
      "metadata": {
        "id": "AZLOHcaJOcas"
      }
    },
    {
      "cell_type": "code",
      "source": [
        "# Companion\n",
        "companion_highland = pd.get_dummies(companion_highland, columns=['Companion#group'], dtype=int)\n",
        "companion_highland = companion_highland.groupby('ID').max().reset_index()\n",
        "\n",
        "# Needstate\n",
        "need_highland = pd.get_dummies(need_highland, columns=['NeedstateGroup'], dtype=int)\n",
        "need_highland = need_highland.groupby('ID').max().reset_index()"
      ],
      "metadata": {
        "id": "krDe30tn_2Ny"
      },
      "execution_count": null,
      "outputs": []
    },
    {
      "cell_type": "markdown",
      "source": [
        "- One hot encoding for tables with Unique IDs"
      ],
      "metadata": {
        "id": "kwEehRrMEHhK"
      }
    },
    {
      "cell_type": "code",
      "source": [
        "# Preprocessing for bhealth\n",
        "\n",
        "# For comprehension we would change \"Unanswered\", \"Maybe do not know it\", and \"Do not know it at all\"\n",
        "# as \"Do not know it\"\n",
        "# Because:\n",
        "# We are conservative in our prediction, so we assume Unanswered as Do not know about it. This conservatism helps Highland to be cautious in business\n",
        "# Also, standardize \"do not know it\" can simplify the model as \"Maybe do not know it\", and \"Do not know it at all\" both reflects ignorance.\n",
        "\n",
        "bhealth_highland['Comprehension'] = bhealth_highland['Comprehension'].apply(\n",
        "                                    lambda x: 'Do not know it'\n",
        "                                    if x in ['Unanswered', 'Maybe do not know it', 'Do not know it at all']\n",
        "                                    else x)\n"
      ],
      "metadata": {
        "id": "-iEgfprfHsx1"
      },
      "execution_count": null,
      "outputs": []
    },
    {
      "cell_type": "code",
      "source": [
        "# bhealth\n",
        "bhealth_highland = pd.get_dummies(bhealth_highland,\n",
        "                                  columns=['Comprehension'],\n",
        "                                  dtype=int)\n",
        "\n",
        "\n",
        "# demographic\n",
        "demo_highland = pd.get_dummies(demo_highland,\n",
        "                               columns=['Occupation#group'],\n",
        "                               dtype=int)"
      ],
      "metadata": {
        "id": "zJXWBMXUELGT"
      },
      "execution_count": null,
      "outputs": []
    },
    {
      "cell_type": "markdown",
      "source": [
        "Merge all tables into 1"
      ],
      "metadata": {
        "id": "T8T16IoVKpt0"
      }
    },
    {
      "cell_type": "code",
      "source": [
        "# Merging on ID using left join\n",
        "df_master = demo_highland.merge(bhealth_highland, on='ID', how='left')\n",
        "df_master = df_master.merge(companion_highland, on='ID', how='left')\n",
        "df_master = df_master.merge(need_highland, on='ID', how='left')"
      ],
      "metadata": {
        "id": "UVvm6WBkKrzQ"
      },
      "execution_count": null,
      "outputs": []
    },
    {
      "cell_type": "code",
      "source": [
        "# Make sure PPA = Spend/Visit\n",
        "df_master['PPA'] = df_master['Spending']/df_master['Fre#visit']"
      ],
      "metadata": {
        "id": "6DzsSGqI6WHA"
      },
      "execution_count": null,
      "outputs": []
    },
    {
      "cell_type": "markdown",
      "source": [
        "Drop all other missing values due to small number"
      ],
      "metadata": {
        "id": "MzL_7mBMsKq8"
      }
    },
    {
      "cell_type": "code",
      "source": [
        "df_master.dropna(inplace=True)"
      ],
      "metadata": {
        "id": "hG97sgUFsSbc"
      },
      "execution_count": null,
      "outputs": []
    },
    {
      "cell_type": "markdown",
      "source": [
        "Outlier"
      ],
      "metadata": {
        "id": "WshrKfnlsYxG"
      }
    },
    {
      "cell_type": "code",
      "source": [
        "# Check outlier for MPI_Mean_Use and Spending\n",
        "import seaborn as sns\n",
        "import matplotlib.pyplot as plt\n",
        "fig, axe = plt.subplots(1, 2, figsize=(14, 5))\n",
        "sns.scatterplot(data = df_master, x = 'Spending', y = 'Fre#visit', ax = axe[0])\n",
        "sns.scatterplot(data = df_master, x = 'Spending', y = 'MPI_Mean_Use', ax = axe[1])"
      ],
      "metadata": {
        "colab": {
          "base_uri": "https://localhost:8080/",
          "height": 482
        },
        "id": "QQHNXi5b6k4Q",
        "outputId": "00fd6e6f-acae-48ec-ccf0-1948ff20ddbe"
      },
      "execution_count": null,
      "outputs": [
        {
          "output_type": "execute_result",
          "data": {
            "text/plain": [
              "<Axes: xlabel='Spending', ylabel='MPI_Mean_Use'>"
            ]
          },
          "metadata": {},
          "execution_count": 42
        },
        {
          "output_type": "display_data",
          "data": {
            "text/plain": [
              "<Figure size 1400x500 with 2 Axes>"
            ],
            "image/png": "[encoded data removed]"
          },
          "metadata": {}
        }
      ]
    },
    {
      "cell_type": "code",
      "source": [
        "# Drop outlier\n",
        "df_master = df_master[(df_master['Spending'] < 1510) &\n",
        "                      (df_master['MPI_Mean_Use'] < 40000) &\n",
        "                      (df_master['Fre#visit'] < 40)]"
      ],
      "metadata": {
        "id": "Di97rgwL_p5Q"
      },
      "execution_count": null,
      "outputs": []
    }
  ]
}